{
 "cells": [
  {
   "cell_type": "code",
   "execution_count": 4,
   "metadata": {},
   "outputs": [],
   "source": [
    "from pycocotools.coco import COCO\n",
    "import numpy as np\n",
    "from skimage import io\n",
    "import matplotlib.pyplot as plt\n",
    "import cv2\n",
    "from tqdm import tqdm"
   ]
  },
  {
   "cell_type": "code",
   "execution_count": 2,
   "metadata": {},
   "outputs": [],
   "source": [
    "annFile = \"HotelsCocos/hotels.json\""
   ]
  },
  {
   "cell_type": "code",
   "execution_count": null,
   "metadata": {},
   "outputs": [],
   "source": [
    "def download_img(id):\n",
    "    import requests, json\n",
    "    s = requests.Session()\n",
    "    headers = {\"Accept\":\"application/json\", \"Content-Type\": \"application/json\"}\n",
    "    auth_url = 'http://52.11.47.117:5000/api/user/login'\n",
    "    auth_payload = {\"username\":\"vision\",\"password\":\"vision\"}\n",
    "    auth_result = s.post(auth_url, headers=headers, data=json.dumps(auth_payload))\n",
    "    root = \"HotelsAnns/{}.jpg\".format(id)\n",
    "    if auth_result.ok:\n",
    "        m = \"http://52.11.47.117:5000/api/image/{}?asAttachment=false&thumbnail=false\".format(id)\n",
    "        img_r = s.get(m)\n",
    "        with open(root, 'wb') as f:\n",
    "            f.write(img_r.content)\n",
    "    return root"
   ]
  },
  {
   "cell_type": "code",
   "execution_count": 3,
   "metadata": {
    "tags": []
   },
   "outputs": [
    {
     "name": "stdout",
     "output_type": "stream",
     "text": [
      "loading annotations into memory...\n",
      "Done (t=0.13s)\n",
      "creating index...\n",
      "index created!\n"
     ]
    }
   ],
   "source": [
    "coco = COCO(annFile)"
   ]
  },
  {
   "cell_type": "code",
   "execution_count": 4,
   "metadata": {},
   "outputs": [],
   "source": [
    "cats = coco.loadCats(coco.getCatIds())\n",
    "# for cat in cats:\n",
    "#     cat['id'] = cat['id'] + 141"
   ]
  },
  {
   "cell_type": "code",
   "execution_count": null,
   "metadata": {
    "tags": []
   },
   "outputs": [],
   "source": [
    "imgs = coco.loadImgs(coco.getImgIds())"
   ]
  },
  {
   "cell_type": "code",
   "execution_count": null,
   "metadata": {
    "tags": []
   },
   "outputs": [],
   "source": [
    "test = []\n",
    "for img in tqdm(imgs):\n",
    "    fn = img['file_name'].replace(\".jpg\", \".png\")\n",
    "    img_arr = io.imread(download_img(img['id']))\n",
    "    height, width = img_arr.shape[0], img_arr.shape[1]\n",
    "    mask = np.zeros((height,width), np.uint8)\n",
    "\n",
    "    anns = coco.loadAnns(ids=coco.getAnnIds(imgIds=img['id']))\n",
    "    anns = sorted(anns, key=lambda x : x['area'])[::-1]\n",
    "\n",
    "    for ann in anns:\n",
    "        binary_mask = coco.annToMask(ann)\n",
    "        where = np.argwhere(binary_mask == 1)\n",
    "        for w in where:\n",
    "            mask[w[0], w[1]] = ann['category_id'] + 141\n",
    "    # mask[mask == 0] = 1\n",
    "    io.imsave(\"HotelsAnns/\" + fn, mask)\n",
    "max(test)\n"
   ]
  },
  {
   "cell_type": "code",
   "execution_count": null,
   "metadata": {},
   "outputs": [],
   "source": [
    "### CREATE COLOR FILE ###"
   ]
  },
  {
   "cell_type": "code",
   "execution_count": null,
   "metadata": {},
   "outputs": [],
   "source": [
    "from scipy.io import loadmat\n",
    "import csv\n"
   ]
  },
  {
   "cell_type": "code",
   "execution_count": null,
   "metadata": {},
   "outputs": [],
   "source": [
    "c = loadmat('data/color150.mat')['colors']\n",
    "colors = []\n",
    "with open(\"data/object150_info.csv\") as csvfile:\n",
    "    reader = csv.reader(csvfile, delimiter=',')\n",
    "    next(reader)\n",
    "    for idx, row in enumerate(reader):\n",
    "        colors.append((row[-1], list(c[idx])))"
   ]
  },
  {
   "cell_type": "code",
   "execution_count": null,
   "metadata": {},
   "outputs": [],
   "source": [
    "for idx, cat in enumerate(cats):\n",
    "    hex = cat['color'].lstrip('#')\n",
    "    rgb = list(tuple(int(hex[i:i+2], 16) for i in (0, 2, 4)))\n",
    "    colors.append((cat['name'], rgb))\n"
   ]
  },
  {
   "cell_type": "code",
   "execution_count": null,
   "metadata": {},
   "outputs": [],
   "source": [
    "import pickle\n",
    "with open(\"colors_superset.pckl\", \"wb\") as pckl:\n",
    "    pickle.dump(colors, pckl)"
   ]
  },
  {
   "cell_type": "code",
   "execution_count": 10,
   "metadata": {
    "tags": []
   },
   "outputs": [
    {
     "output_type": "execute_result",
     "data": {
      "text/plain": [
       "(162, './imgs/HotelsAdjusted/0ROMMIE_-1_5736_traffickcam_2629252_GREY_SEG.png')"
      ]
     },
     "metadata": {},
     "execution_count": 10
    }
   ],
   "source": [
    "import json\n",
    "test = []\n",
    "with open(\"data/past_experiments/validation_162-class_Hotels_and_ADE.odgt\", \"r\") as fp:\n",
    "    # line = json.load(fp.readline())\n",
    "    line = fp.readline()\n",
    "    cnt = 1\n",
    "    while line:\n",
    "        line = json.loads(line)\n",
    "        img = io.imread(line['fpath_segm'])\n",
    "        test.append((np.amax(img), line['fpath_segm']))\n",
    "        line = fp.readline()\n",
    "        # cnt += 1\n",
    "max(test)\n"
   ]
  },
  {
   "cell_type": "code",
   "execution_count": null,
   "metadata": {},
   "outputs": [],
   "source": [
    "### COMBINE COLORS ###"
   ]
  },
  {
   "cell_type": "code",
   "execution_count": null,
   "metadata": {},
   "outputs": [],
   "source": [
    "ade_colors = loadmat('data/color150.mat')['colors']\n",
    "ade_names= []\n",
    "with open(\"data/object150_info.csv\") as csvfile:\n",
    "    reader = csv.reader(csvfile, delimiter=',')\n",
    "    next(reader)\n",
    "    for idx, row in enumerate(reader):\n",
    "        ade_names.append(str(row[-1]))"
   ]
  },
  {
   "cell_type": "code",
   "execution_count": null,
   "metadata": {},
   "outputs": [],
   "source": [
    "hotels_names = []\n",
    "for cat in  cats:\n",
    "    hex = cat['color'].lstrip('#')\n",
    "    rgb = list(tuple(int(hex[i:i+2], 16) for i in (0, 2, 4)))\n",
    "    hotels_names.append(cat['name'])"
   ]
  },
  {
   "cell_type": "code",
   "execution_count": null,
   "metadata": {},
   "outputs": [],
   "source": [
    "np = set()\n",
    "present = set()\n",
    "gt = {(x, hotels_names.index(x) + 1) for x in hotels_names}\n",
    "new = []\n",
    "for b in ade_names:\n",
    "    for a in hotels_names:\n",
    "        matches = b.split(\";\")\n",
    "        if any(x in a for x in matches):\n",
    "            present.add((a, hotels_names.index(a) + 1))\n",
    "            new.append((hotels_names.index(a) + 1, ade_names.index(b) + 1))\n",
    "        else:\n",
    "            np.add(a)\n",
    "diff = gt - present\n",
    "for i in list(diff):\n",
    "    new.append((i[1],))"
   ]
  },
  {
   "cell_type": "code",
   "execution_count": null,
   "metadata": {
    "tags": []
   },
   "outputs": [],
   "source": [
    "notPresent = set()\n",
    "present = set()\n",
    "\n",
    "for b in hotels_names:\n",
    "    matches = b.split(\" / \")\n",
    "    for a in ade_names:\n",
    "        if any(x in a for x in matches):\n",
    "            present.add(b)\n",
    "            break\n",
    "            # pass\n",
    "        # else:\n",
    "        #     notPresent.add(b)\n",
    "present\n"
   ]
  },
  {
   "cell_type": "code",
   "execution_count": null,
   "metadata": {
    "tags": []
   },
   "outputs": [],
   "source": [
    "a = \"test;fuck\"\n",
    "matches = [\"fuck\", \"bag\"]\n",
    "if any(x in a for x in matches):\n",
    "    print(\"yay\")"
   ]
  },
  {
   "cell_type": "code",
   "execution_count": null,
   "metadata": {
    "tags": []
   },
   "outputs": [],
   "source": [
    "from glob import glob\n",
    "import os\n",
    "imgs = [f for f in glob(\"/pless_nfs/home/mdt_/semantic-segmentation-pytorch/HotelsData/*.png\") if \"GREY\" in f]\n",
    "test = []\n",
    "for img in tqdm(imgs, desc='Adjusting Hotels'):\n",
    "    s = img.split(\"_GREY_SEG\")\n",
    "    os.rename(img, s[0]+\".png\")\n",
    "max(test)"
   ]
  },
  {
   "cell_type": "code",
   "execution_count": 8,
   "metadata": {},
   "outputs": [],
   "source": [
    "import json\n",
    "l = [json.loads(x.rstrip()) for x in open(\"data/current_experiments/validation_162-class_Hotels_and_ADE.odgt\", 'r')]"
   ]
  },
  {
   "cell_type": "code",
   "execution_count": 38,
   "metadata": {},
   "outputs": [
    {
     "output_type": "execute_result",
     "data": {
      "text/plain": [
       "-58"
      ]
     },
     "metadata": {},
     "execution_count": 38
    }
   ],
   "source": [
    "-1* int(len(l3) * .33)"
   ]
  },
  {
   "cell_type": "code",
   "execution_count": 19,
   "metadata": {},
   "outputs": [],
   "source": [
    "import os\n",
    "l2 = [f['fpath_segm'] for f in l]\n",
    "l3 = [\"./imgs/Hotels150/\" + str(f) for _, __, files in os.walk(\"./imgs/Hotels150\") for f in files]\n",
    "\n",
    "# -class_Hotels_and_ADE.odgt\", \"w\") as f:\n",
    "# ][:58])\n",
    "l3 = set(l3[:int(len(l3) * .66)])\n"
   ]
  },
  {
   "cell_type": "code",
   "execution_count": 20,
   "metadata": {},
   "outputs": [],
   "source": [
    "import random\n",
    "import json\n",
    "ade = [json.loads(x.rstrip()) for x in open(\"data/past_experiments/training.odgt\", 'r')]\n",
    "n = 2000\n",
    "\n",
    "ade_imgs = [f['fpath_segm'] for f in ade]\n",
    "random.shuffle(ade_imgs)\n",
    "ade = [os.path.join(\"data\",ade_imgs[f]) for f in range(n)]"
   ]
  },
  {
   "cell_type": "code",
   "execution_count": null,
   "metadata": {},
   "outputs": [],
   "source": []
  },
  {
   "cell_type": "code",
   "execution_count": 21,
   "metadata": {
    "tags": []
   },
   "outputs": [
    {
     "output_type": "stream",
     "name": "stdout",
     "text": [
      "bad file: ./imgs/Hotels150/0ROMMIE_-1_5736_traffickcam_2629252.png\n"
     ]
    }
   ],
   "source": [
    "rem = list(l3-set(l2))\n",
    "keys = [\"fpath_img\", \"fpath_segm\", \"width\", \"height\"]\n",
    "with open(\"data/current_experiments/training_162-class_Hotels_and_ADE.odgt\", \"w\") as f:\n",
    "    total = ade + rem\n",
    "    for img in ade:\n",
    "        try:\n",
    "            op = io.imread(img)\n",
    "        except:\n",
    "            print(f\"bad file: {img}\")\n",
    "            continue\n",
    "        height, width = op.shape[0], op.shape[1]\n",
    "        s = f'''{\"{\"}\"fpath_img\": \"{img.replace(\"annotations\", \"images\").replace(\"png\", \"jpg\")}\", \"fpath_segm\": \"{img}\", \"width\": {width}, \"height\": {height}{\"}\"}\\n'''\n",
    "        f.write(s)\n",
    "    for img in rem:\n",
    "        try:\n",
    "            op = io.imread(img)\n",
    "        except:\n",
    "            print(f\"bad file: {img}\")\n",
    "            continue\n",
    "        height, width = op.shape[0], op.shape[1]\n",
    "        path = \"../../datasets/Hotels-50K/images/train/\" + img.replace(\"_GREY_SEG\", \"\").split(\"_\", 1)[1].replace(\"_\", \"/\").replace(\"travel/website\", \"travel_website\").replace(\"png\", \"jpg\")\n",
    "        if \"train/train\" in path:\n",
    "            print(path)\n",
    "            print(img)\n",
    "            break\n",
    "        s = f'''{\"{\"}\"fpath_img\": \"{path}\", \"fpath_segm\": \"{img}\", \"width\": {width}, \"height\": {height}{\"}\"}\\n'''\n",
    "        f.write(s)\n",
    "with open(\"data/current_experiments/validation_162-class_Hotels_and_ADE.odgt\", \"w\") as f:\n",
    "    for img in list(l2):\n",
    "        op = io.imread(img)\n",
    "        height, width = op.shape[0], op.shape[1]\n",
    "        path = \"../../datasets/Hotels-50K/images/train/\" + img.replace(\"_GREY_SEG\", \"\").split(\"_\", 1)[1].replace(\"_\", \"/\").replace(\"travel/website\", \"travel_website\").replace(\"png\", \"jpg\")\n",
    "        s = f'''{\"{\"}\"fpath_img\": \"{path}\", \"fpath_segm\": \"{img}\", \"width\": {width}, \"height\": {height}{\"}\"}\\n'''\n",
    "        f.write(s)\n",
    "\n",
    "\n",
    "\n"
   ]
  },
  {
   "cell_type": "code",
   "execution_count": null,
   "metadata": {},
   "outputs": [],
   "source": [
    "import pickle\n",
    "# col = getColors()\n",
    "colors = []\n",
    "names = {}\n",
    "with open(\"Colors/colors_exp15-18.pckl\", \"wb\") as p2:\n",
    "    test = []\n",
    "    for i in cats:\n",
    "        hex = i['color'].lstrip('#')\n",
    "        rgb = list(tuple(int(hex[i:i+2], 16) for i in (0, 2, 4)))\n",
    "        test.append((rgb, i['name']))\n",
    "    pickle.dump(test, p2)\n",
    "    "
   ]
  },
  {
   "cell_type": "code",
   "execution_count": null,
   "metadata": {},
   "outputs": [],
   "source": [
    "colors = []\n",
    "names = {}\n",
    "with open(\"Colors/colors_Hotels_ande.pckl\", \"rb\") as p:\n",
    "    data = pickle.load(p)\n",
    "    for idx, d in enumerate(data):\n",
    "        colors.append(np.array(d[0], np.uint8))\n",
    "        names[idx+1] = d[1]"
   ]
  },
  {
   "cell_type": "code",
   "execution_count": null,
   "metadata": {},
   "outputs": [],
   "source": [
    "### Montages ### \n"
   ]
  },
  {
   "cell_type": "code",
   "execution_count": null,
   "metadata": {},
   "outputs": [],
   "source": [
    "import random\n",
    "import cv2\n",
    "from imutils import build_montages\n",
    "from imutils import paths"
   ]
  },
  {
   "cell_type": "code",
   "execution_count": null,
   "metadata": {},
   "outputs": [],
   "source": [
    "path = \"../yolov3/traffickcam\"\n",
    "save = \"montages/yolo/\"\n",
    "n = 50"
   ]
  },
  {
   "cell_type": "code",
   "execution_count": null,
   "metadata": {},
   "outputs": [],
   "source": [
    "imagePaths = list(paths.list_images(path))\n",
    "random.shuffle(imagePaths)\n",
    "imagePaths = imagePaths[:n]"
   ]
  },
  {
   "cell_type": "code",
   "execution_count": null,
   "metadata": {},
   "outputs": [],
   "source": [
    "images = []\n",
    "# loop over the list of image paths\n",
    "for imagePath in imagePaths:\n",
    "\t# load the image and update the list of images\n",
    "\timage = cv2.imread(imagePath)\n",
    "\timages.append(image)\n",
    "# construct the montages for the images\n",
    "montages = build_montages(images, (300, 300), (5, 5))"
   ]
  },
  {
   "cell_type": "code",
   "execution_count": null,
   "metadata": {},
   "outputs": [],
   "source": [
    "mon = list(paths.list_images(save))\n",
    "for m in montages:\n",
    "    cv2.imwrite(save + str(len(mon)) + \".png\", m)\n"
   ]
  },
  {
   "cell_type": "code",
   "execution_count": null,
   "metadata": {},
   "outputs": [],
   "source": []
  }
 ],
 "metadata": {
  "kernelspec": {
   "display_name": "Python 3.7.7 64-bit ('semsegpy37': conda)",
   "language": "python",
   "name": "python37764bitsemsegpy37conda8dc00fd5bde141089e99646c7805a034"
  },
  "language_info": {
   "codemirror_mode": {
    "name": "ipython",
    "version": 3
   },
   "file_extension": ".py",
   "mimetype": "text/x-python",
   "name": "python",
   "nbconvert_exporter": "python",
   "pygments_lexer": "ipython3",
   "version": "3.7.7-final"
  }
 },
 "nbformat": 4,
 "nbformat_minor": 2
}