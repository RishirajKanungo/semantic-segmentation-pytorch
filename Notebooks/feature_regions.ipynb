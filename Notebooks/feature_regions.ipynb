{
 "metadata": {
  "language_info": {
   "codemirror_mode": {
    "name": "ipython",
    "version": 3
   },
   "file_extension": ".py",
   "mimetype": "text/x-python",
   "name": "python",
   "nbconvert_exporter": "python",
   "pygments_lexer": "ipython3",
   "version": "3.7.7-final"
  },
  "orig_nbformat": 2,
  "kernelspec": {
   "name": "python37764bitsemsegpy37conda8dc00fd5bde141089e99646c7805a034",
   "display_name": "Python 3.7.7 64-bit ('semsegpy37': conda)"
  }
 },
 "nbformat": 4,
 "nbformat_minor": 2,
 "cells": [
  {
   "cell_type": "code",
   "execution_count": 41,
   "metadata": {},
   "outputs": [],
   "source": [
    "import torch\n",
    "import torch.nn as nn\n",
    "import numpy as np\n",
    "from scipy.interpolate import interp1d\n",
    "from glob import glob"
   ]
  },
  {
   "cell_type": "code",
   "execution_count": 42,
   "metadata": {},
   "outputs": [],
   "source": [
    "files_2048 = glob('../features/**/2048-*.pt', recursive = True) \n",
    "files_162 = glob('../features/**/162-*.pt', recursive = True) \n"
   ]
  },
  {
   "cell_type": "code",
   "execution_count": 44,
   "metadata": {},
   "outputs": [
    {
     "output_type": "stream",
     "name": "stdout",
     "text": [
      "torch.Size([1, 162, 50, 38])\n"
     ]
    }
   ],
   "source": [
    "num_classes = 162\n",
    "for f in zip(files_2048, files_162):\n",
    "    # load the feat\n",
    "    feat_2048 = torch.load(f[0])\n",
    "    feat_162 = torch.load(f[1])\n",
    "\n",
    "    # size of each feat\n",
    "    size_2048 = feat_2048.size()\n",
    "    size_162 = feat_162.size()\n",
    "\n",
    "    # features = torch.zeros((size_162[0], size_162[1]))\n",
    "    x = nn.functional.interpolate(feat_162, size=(size_2048[2], size_2048[3]), mode='bilinear', align_corners=False)\n",
    "    print(x.size())\n",
    "\n",
    "    # get corresponding coordinates\n",
    "    x = x.permute((0,2,3,1))\n",
    "    features_coords = torch.zeros((size_2048[2], size_2048[3], 1))\n",
    "\n",
    "    # find most probable class at each location, scale to 2048 dims\n",
    "    for row in range(size_2048[2]):\n",
    "        for col in range(size_2048[3]):\n",
    "            max = torch.argmax(x[0][row][col])\n",
    "            features_coords[row][col] = max\n",
    "\n",
    "    # calculate average for each class in 2048d\n",
    "    feat_2048 = feat_2048.permute((0,2,3,1)).type(torch.FloatTensor)\n",
    "    all_feats = torch.zeros((num_classes, 2048)).type(torch.FloatTensor)\n",
    "    for cl in range(num_classes):\n",
    "        coords = np.argwhere(features_coords.numpy() == cl)\n",
    "        for coord in coords:\n",
    "            all_feats[cl] = all_feats[cl].add(feat_2048[0][coord[0]][coord[1]])\n",
    "        all_feats[cl] = torch.div(all_feats[cl], len(coords))\n",
    "        \n",
    "            \n",
    "            \n"
   ]
  },
  {
   "cell_type": "code",
   "execution_count": 39,
   "metadata": {},
   "outputs": [
    {
     "output_type": "execute_result",
     "data": {
      "text/plain": [
       "0"
      ]
     },
     "metadata": {},
     "execution_count": 39
    }
   ],
   "source": [
    "len(coords)"
   ]
  },
  {
   "cell_type": "code",
   "execution_count": 14,
   "metadata": {},
   "outputs": [
    {
     "output_type": "execute_result",
     "data": {
      "text/plain": [
       "torch.Size([162])"
      ]
     },
     "metadata": {},
     "execution_count": 14
    }
   ],
   "source": [
    "test = torch.squeeze(feat_162)\n",
    "test = test.permute((2,1,0))\n",
    "test[0][0].size()"
   ]
  },
  {
   "cell_type": "code",
   "execution_count": 15,
   "metadata": {},
   "outputs": [
    {
     "output_type": "execute_result",
     "data": {
      "text/plain": [
       "torch.Size([162, 640, 480])"
      ]
     },
     "metadata": {},
     "execution_count": 15
    }
   ],
   "source": [
    "from summ"
   ]
  }
 ]
}